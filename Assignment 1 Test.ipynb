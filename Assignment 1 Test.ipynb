{
 "cells": [
  {
   "cell_type": "code",
   "execution_count": 146,
   "metadata": {
    "collapsed": false
   },
   "outputs": [
    {
     "name": "stdout",
     "output_type": "stream",
     "text": [
      "[1.0018348693847656e-06]\n"
     ]
    }
   ],
   "source": [
    "import time\n",
    "N = 1000\n",
    "timelist = []\n",
    "testlist = []\n",
    "\n",
    "time1 = time.time()\n",
    "for num in range(N):\n",
    "    testlist.append(1)\n",
    "    time2 = time.time()\n",
    "\n",
    "timelist.append((time2-time1)/N)\n",
    "print(timelist)"
   ]
  },
  {
   "cell_type": "code",
   "execution_count": null,
   "metadata": {
    "collapsed": true
   },
   "outputs": [],
   "source": [
    "#As shown above, the time to append a single value, is small."
   ]
  },
  {
   "cell_type": "code",
   "execution_count": 143,
   "metadata": {
    "collapsed": false
   },
   "outputs": [
    {
     "name": "stdout",
     "output_type": "stream",
     "text": [
      "[1.0030269622802734e-06]\n"
     ]
    }
   ],
   "source": [
    "N = 1000\n",
    "timelist = []\n",
    "testlist = []\n",
    "\n",
    "time1 = time.time()\n",
    "for num in range(N):\n",
    "    testlist.append(num)\n",
    "    time2 = time.time()\n",
    "\n",
    "timelist.append((time2-time1)/N)\n",
    "print(timelist)"
   ]
  },
  {
   "cell_type": "code",
   "execution_count": null,
   "metadata": {
    "collapsed": true
   },
   "outputs": [],
   "source": [
    "#Even when the value increases with each iteration, the time to append it is small. This shows the efficieny of lists and\n",
    "# demonstrates that the structure of the code is the main contributor to code runtime."
   ]
  },
  {
   "cell_type": "code",
   "execution_count": 156,
   "metadata": {
    "collapsed": false
   },
   "outputs": [
    {
     "data": {
      "text/plain": [
       "<function matplotlib.pyplot.show>"
      ]
     },
     "execution_count": 156,
     "metadata": {},
     "output_type": "execute_result"
    },
    {
     "data": {
      "image/png": "[encoded data removed]",
      "text/plain": [
       "<matplotlib.figure.Figure at 0x20c35ab5518>"
      ]
     },
     "metadata": {},
     "output_type": "display_data"
    }
   ],
   "source": [
    "#Look at what happens to the append time as the list grows larger:\n",
    "\n",
    "import time\n",
    "import matplotlib.pyplot as plt\n",
    "%matplotlib inline\n",
    "\n",
    "N = 1000\n",
    "timelist = []\n",
    "testlist = []\n",
    "xlist = []\n",
    "\n",
    "for num in range (0,2*N):\n",
    "    newnum = num * 0.001\n",
    "    xlist.append(newnum)\n",
    "\n",
    "for num in range(N):\n",
    "    timelist.append(time.time())\n",
    "    for num in range(1,2):\n",
    "        testlist.append(num)\n",
    "        timelist.append(time.time())\n",
    "\n",
    "x = xlist\n",
    "y = timelist\n",
    "plt.plot(x,y)\n",
    "plt.show"
   ]
  },
  {
   "cell_type": "code",
   "execution_count": null,
   "metadata": {
    "collapsed": true
   },
   "outputs": [],
   "source": [
    "#Though the time to append is still small, it increases as the list grows increasingly large."
   ]
  }
 ],
 "metadata": {
  "anaconda-cloud": {},
  "kernelspec": {
   "display_name": "Python [default]",
   "language": "python",
   "name": "python3"
  },
  "language_info": {
   "codemirror_mode": {
    "name": "ipython",
    "version": 3
   },
   "file_extension": ".py",
   "mimetype": "text/x-python",
   "name": "python",
   "nbconvert_exporter": "python",
   "pygments_lexer": "ipython3",
   "version": "3.5.2"
  }
 },
 "nbformat": 4,
 "nbformat_minor": 1
}
